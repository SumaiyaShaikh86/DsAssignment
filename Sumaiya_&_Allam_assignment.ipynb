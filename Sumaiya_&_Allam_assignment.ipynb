{
  "nbformat": 4,
  "nbformat_minor": 0,
  "metadata": {
    "colab": {
      "name": "Sumaiya & Allam assignment.ipynb",
      "provenance": [],
      "collapsed_sections": [],
      "include_colab_link": true
    },
    "kernelspec": {
      "name": "python3",
      "display_name": "Python 3"
    }
  },
  "cells": [
    {
      "cell_type": "markdown",
      "metadata": {
        "id": "view-in-github",
        "colab_type": "text"
      },
      "source": [
        "<a href=\"https://colab.research.google.com/github/SumaiyaShaikh86/DsAssignment/blob/master/Sumaiya_%26_Allam_assignment.ipynb\" target=\"_parent\"><img src=\"https://colab.research.google.com/assets/colab-badge.svg\" alt=\"Open In Colab\"/></a>"
      ]
    },
    {
      "cell_type": "code",
      "metadata": {
        "id": "jFHSwJC07O0J",
        "colab_type": "code",
        "colab": {}
      },
      "source": [
        "import pandas as pd\n",
        "import numpy as np"
      ],
      "execution_count": 0,
      "outputs": []
    },
    {
      "cell_type": "code",
      "metadata": {
        "id": "Z2yVih5T7fdy",
        "colab_type": "code",
        "colab": {}
      },
      "source": [
        "data = pd.read_csv(\"https://archive.ics.uci.edu/ml/machine-learning-databases/census-income-mld/census-income.data.gz\", header=None, delimiter=',')"
      ],
      "execution_count": 0,
      "outputs": []
    },
    {
      "cell_type": "code",
      "metadata": {
        "id": "ex4ftWMn8JoA",
        "colab_type": "code",
        "colab": {}
      },
      "source": [
        "\n",
        "df=pd.read_csv('https://archive.ics.uci.edu/ml/machine-learning-databases/adult/adult.data')"
      ],
      "execution_count": 0,
      "outputs": []
    },
    {
      "cell_type": "code",
      "metadata": {
        "id": "Lx5irgl9AHgT",
        "colab_type": "code",
        "colab": {}
      },
      "source": [
        "data.columns=['age','class of worker','industry code','occupation code','adjusted gross income','education','wage per hour','enrolled in edu inst last wk',\n",
        "              'marital status','major industry code','major occupation code','mace','hispanic Origin','sex','member of a labor union','reason for unemployment',\n",
        "              'full or part time employment stat','capital gains','capital losses','divdends from stocks','federal income tax liability','tax filer status',\n",
        "              'region of previous residence','state of previous residence','detailed household and family stat','detailed household summary in household',\n",
        "              'instance weight','migration code-change in msa','migration code-change in reg','migration code-move within reg','live in this house 1 year ago',\n",
        "              'migration prev res in sunbelt','num persons worked for employer','family members under 18','total person earnings','country of birth father',\n",
        "              'country of birth mother','country of birth self','citizenship','total person income','own business or self employed','taxable income amount']"
      ],
      "execution_count": 0,
      "outputs": []
    },
    {
      "cell_type": "code",
      "metadata": {
        "id": "Y4r244v0Amim",
        "colab_type": "code",
        "colab": {}
      },
      "source": [
        "data.replace(\" ?\",np.nan,inplace=True)"
      ],
      "execution_count": 0,
      "outputs": []
    },
    {
      "cell_type": "code",
      "metadata": {
        "id": "-KhLscDcCtz6",
        "colab_type": "code",
        "colab": {}
      },
      "source": [
        "df.columns=['age','workclass','fnlwgt','education','education_num','marital_status','occupation','relationship','race','sex','capital_gain','capital_loss','hours_per_week','native_country','salary']"
      ],
      "execution_count": 0,
      "outputs": []
    },
    {
      "cell_type": "code",
      "metadata": {
        "id": "rIjxHhUfC6Ed",
        "colab_type": "code",
        "colab": {}
      },
      "source": [
        "df.replace(' ?',np.nan,inplace=True)"
      ],
      "execution_count": 0,
      "outputs": []
    },
    {
      "cell_type": "code",
      "metadata": {
        "id": "TUM-en_3Dc-O",
        "colab_type": "code",
        "colab": {}
      },
      "source": [
        "df.dropna(how='any',inplace=True)"
      ],
      "execution_count": 0,
      "outputs": []
    },
    {
      "cell_type": "code",
      "metadata": {
        "id": "jEwao8zuFvQA",
        "colab_type": "code",
        "colab": {
          "base_uri": "https://localhost:8080/",
          "height": 309
        },
        "outputId": "4daca17f-17d6-4219-c9a7-d544e0885675"
      },
      "source": [
        "df.head()"
      ],
      "execution_count": 53,
      "outputs": [
        {
          "output_type": "execute_result",
          "data": {
            "text/html": [
              "<div>\n",
              "<style scoped>\n",
              "    .dataframe tbody tr th:only-of-type {\n",
              "        vertical-align: middle;\n",
              "    }\n",
              "\n",
              "    .dataframe tbody tr th {\n",
              "        vertical-align: top;\n",
              "    }\n",
              "\n",
              "    .dataframe thead th {\n",
              "        text-align: right;\n",
              "    }\n",
              "</style>\n",
              "<table border=\"1\" class=\"dataframe\">\n",
              "  <thead>\n",
              "    <tr style=\"text-align: right;\">\n",
              "      <th></th>\n",
              "      <th>age</th>\n",
              "      <th>workclass</th>\n",
              "      <th>fnlwgt</th>\n",
              "      <th>education</th>\n",
              "      <th>education_num</th>\n",
              "      <th>marital_status</th>\n",
              "      <th>occupation</th>\n",
              "      <th>relationship</th>\n",
              "      <th>race</th>\n",
              "      <th>sex</th>\n",
              "      <th>capital_gain</th>\n",
              "      <th>capital_loss</th>\n",
              "      <th>hours_per_week</th>\n",
              "      <th>native_country</th>\n",
              "      <th>salary</th>\n",
              "    </tr>\n",
              "  </thead>\n",
              "  <tbody>\n",
              "    <tr>\n",
              "      <th>0</th>\n",
              "      <td>50</td>\n",
              "      <td>Self-emp-not-inc</td>\n",
              "      <td>83311</td>\n",
              "      <td>Bachelors</td>\n",
              "      <td>13</td>\n",
              "      <td>Married-civ-spouse</td>\n",
              "      <td>Exec-managerial</td>\n",
              "      <td>Husband</td>\n",
              "      <td>White</td>\n",
              "      <td>Male</td>\n",
              "      <td>0</td>\n",
              "      <td>0</td>\n",
              "      <td>13</td>\n",
              "      <td>United-States</td>\n",
              "      <td>&lt;=50K</td>\n",
              "    </tr>\n",
              "    <tr>\n",
              "      <th>1</th>\n",
              "      <td>38</td>\n",
              "      <td>Private</td>\n",
              "      <td>215646</td>\n",
              "      <td>HS-grad</td>\n",
              "      <td>9</td>\n",
              "      <td>Divorced</td>\n",
              "      <td>Handlers-cleaners</td>\n",
              "      <td>Not-in-family</td>\n",
              "      <td>White</td>\n",
              "      <td>Male</td>\n",
              "      <td>0</td>\n",
              "      <td>0</td>\n",
              "      <td>40</td>\n",
              "      <td>United-States</td>\n",
              "      <td>&lt;=50K</td>\n",
              "    </tr>\n",
              "    <tr>\n",
              "      <th>2</th>\n",
              "      <td>53</td>\n",
              "      <td>Private</td>\n",
              "      <td>234721</td>\n",
              "      <td>11th</td>\n",
              "      <td>7</td>\n",
              "      <td>Married-civ-spouse</td>\n",
              "      <td>Handlers-cleaners</td>\n",
              "      <td>Husband</td>\n",
              "      <td>Black</td>\n",
              "      <td>Male</td>\n",
              "      <td>0</td>\n",
              "      <td>0</td>\n",
              "      <td>40</td>\n",
              "      <td>United-States</td>\n",
              "      <td>&lt;=50K</td>\n",
              "    </tr>\n",
              "    <tr>\n",
              "      <th>3</th>\n",
              "      <td>28</td>\n",
              "      <td>Private</td>\n",
              "      <td>338409</td>\n",
              "      <td>Bachelors</td>\n",
              "      <td>13</td>\n",
              "      <td>Married-civ-spouse</td>\n",
              "      <td>Prof-specialty</td>\n",
              "      <td>Wife</td>\n",
              "      <td>Black</td>\n",
              "      <td>Female</td>\n",
              "      <td>0</td>\n",
              "      <td>0</td>\n",
              "      <td>40</td>\n",
              "      <td>Cuba</td>\n",
              "      <td>&lt;=50K</td>\n",
              "    </tr>\n",
              "    <tr>\n",
              "      <th>4</th>\n",
              "      <td>37</td>\n",
              "      <td>Private</td>\n",
              "      <td>284582</td>\n",
              "      <td>Masters</td>\n",
              "      <td>14</td>\n",
              "      <td>Married-civ-spouse</td>\n",
              "      <td>Exec-managerial</td>\n",
              "      <td>Wife</td>\n",
              "      <td>White</td>\n",
              "      <td>Female</td>\n",
              "      <td>0</td>\n",
              "      <td>0</td>\n",
              "      <td>40</td>\n",
              "      <td>United-States</td>\n",
              "      <td>&lt;=50K</td>\n",
              "    </tr>\n",
              "  </tbody>\n",
              "</table>\n",
              "</div>"
            ],
            "text/plain": [
              "   age          workclass  fnlwgt  ... hours_per_week  native_country  salary\n",
              "0   50   Self-emp-not-inc   83311  ...             13   United-States   <=50K\n",
              "1   38            Private  215646  ...             40   United-States   <=50K\n",
              "2   53            Private  234721  ...             40   United-States   <=50K\n",
              "3   28            Private  338409  ...             40            Cuba   <=50K\n",
              "4   37            Private  284582  ...             40   United-States   <=50K\n",
              "\n",
              "[5 rows x 15 columns]"
            ]
          },
          "metadata": {
            "tags": []
          },
          "execution_count": 53
        }
      ]
    },
    {
      "cell_type": "code",
      "metadata": {
        "id": "jc5kY9ERF0lO",
        "colab_type": "code",
        "colab": {
          "base_uri": "https://localhost:8080/",
          "height": 357
        },
        "outputId": "e448ebbd-b29d-48b7-d601-087c98715e91"
      },
      "source": [
        "df.info()"
      ],
      "execution_count": 54,
      "outputs": [
        {
          "output_type": "stream",
          "text": [
            "<class 'pandas.core.frame.DataFrame'>\n",
            "Int64Index: 30161 entries, 0 to 32559\n",
            "Data columns (total 15 columns):\n",
            "age               30161 non-null int64\n",
            "workclass         30161 non-null object\n",
            "fnlwgt            30161 non-null int64\n",
            "education         30161 non-null object\n",
            "education_num     30161 non-null int64\n",
            "marital_status    30161 non-null object\n",
            "occupation        30161 non-null object\n",
            "relationship      30161 non-null object\n",
            "race              30161 non-null object\n",
            "sex               30161 non-null object\n",
            "capital_gain      30161 non-null int64\n",
            "capital_loss      30161 non-null int64\n",
            "hours_per_week    30161 non-null int64\n",
            "native_country    30161 non-null object\n",
            "salary            30161 non-null object\n",
            "dtypes: int64(6), object(9)\n",
            "memory usage: 3.7+ MB\n"
          ],
          "name": "stdout"
        }
      ]
    },
    {
      "cell_type": "code",
      "metadata": {
        "id": "cIyYSMwSFnJa",
        "colab_type": "code",
        "colab": {}
      },
      "source": [
        "df.salary=[0 if x == \" <=50K\" else 1 for x in df.salary]"
      ],
      "execution_count": 0,
      "outputs": []
    },
    {
      "cell_type": "code",
      "metadata": {
        "id": "Zl97NoIYGx-i",
        "colab_type": "code",
        "colab": {}
      },
      "source": [
        "data.replace(' ?',np.nan,inplace=True)\n",
        "                           "
      ],
      "execution_count": 0,
      "outputs": []
    },
    {
      "cell_type": "code",
      "metadata": {
        "id": "q_70jz_NI0Ff",
        "colab_type": "code",
        "colab": {}
      },
      "source": [
        "data.dropna(how='any',inplace=True)"
      ],
      "execution_count": 0,
      "outputs": []
    },
    {
      "cell_type": "code",
      "metadata": {
        "id": "1w3fyXtPI5Fn",
        "colab_type": "code",
        "colab": {
          "base_uri": "https://localhost:8080/",
          "height": 816
        },
        "outputId": "e16c47ab-9fa0-41f9-d97a-b9f036a62d62"
      },
      "source": [
        "data.info()"
      ],
      "execution_count": 58,
      "outputs": [
        {
          "output_type": "stream",
          "text": [
            "<class 'pandas.core.frame.DataFrame'>\n",
            "Int64Index: 95130 entries, 1 to 199519\n",
            "Data columns (total 42 columns):\n",
            "age                                        95130 non-null int64\n",
            "class of worker                            95130 non-null object\n",
            "industry code                              95130 non-null int64\n",
            "occupation code                            95130 non-null int64\n",
            "adjusted gross income                      95130 non-null object\n",
            "education                                  95130 non-null int64\n",
            "wage per hour                              95130 non-null object\n",
            "enrolled in edu inst last wk               95130 non-null object\n",
            "marital status                             95130 non-null object\n",
            "major industry code                        95130 non-null object\n",
            "major occupation code                      95130 non-null object\n",
            "mace                                       95130 non-null object\n",
            "hispanic Origin                            95130 non-null object\n",
            "sex                                        95130 non-null object\n",
            "member of a labor union                    95130 non-null object\n",
            "reason for unemployment                    95130 non-null object\n",
            "full or part time employment stat          95130 non-null int64\n",
            "capital gains                              95130 non-null int64\n",
            "capital losses                             95130 non-null int64\n",
            "divdends from stocks                       95130 non-null object\n",
            "federal income tax liability               95130 non-null object\n",
            "tax filer status                           95130 non-null object\n",
            "region of previous residence               95130 non-null object\n",
            "state of previous residence                95130 non-null object\n",
            "detailed household and family stat         95130 non-null float64\n",
            "detailed household summary in household    95130 non-null object\n",
            "instance weight                            95130 non-null object\n",
            "migration code-change in msa               95130 non-null object\n",
            "migration code-change in reg               95130 non-null object\n",
            "migration code-move within reg             95130 non-null object\n",
            "live in this house 1 year ago              95130 non-null int64\n",
            "migration prev res in sunbelt              95130 non-null object\n",
            "num persons worked for employer            95130 non-null object\n",
            "family members under 18                    95130 non-null object\n",
            "total person earnings                      95130 non-null object\n",
            "country of birth father                    95130 non-null object\n",
            "country of birth mother                    95130 non-null int64\n",
            "country of birth self                      95130 non-null object\n",
            "citizenship                                95130 non-null int64\n",
            "total person income                        95130 non-null int64\n",
            "own business or self employed              95130 non-null int64\n",
            "taxable income amount                      95130 non-null object\n",
            "dtypes: float64(1), int64(12), object(29)\n",
            "memory usage: 31.2+ MB\n"
          ],
          "name": "stdout"
        }
      ]
    },
    {
      "cell_type": "code",
      "metadata": {
        "id": "dLF0awLxF4Ij",
        "colab_type": "code",
        "colab": {}
      },
      "source": [
        "target=df.iloc[:,-1:]\n"
      ],
      "execution_count": 0,
      "outputs": []
    },
    {
      "cell_type": "code",
      "metadata": {
        "id": "_i_e-3b_Jf5J",
        "colab_type": "code",
        "colab": {}
      },
      "source": [
        ""
      ],
      "execution_count": 0,
      "outputs": []
    },
    {
      "cell_type": "code",
      "metadata": {
        "id": "GVUSk20QGwv_",
        "colab_type": "code",
        "colab": {}
      },
      "source": [
        "data=pd.get_dummies(data,columns=['class of worker','education','marital status','occupation code','sex','citizenship'])"
      ],
      "execution_count": 0,
      "outputs": []
    },
    {
      "cell_type": "code",
      "metadata": {
        "id": "NuT0DgsyGNrt",
        "colab_type": "code",
        "colab": {}
      },
      "source": [
        "data.drop(columns=['taxable income amount','total person income'],inplace=True)"
      ],
      "execution_count": 0,
      "outputs": []
    },
    {
      "cell_type": "code",
      "metadata": {
        "id": "3s7yw9_7Qz-P",
        "colab_type": "code",
        "colab": {}
      },
      "source": [
        "df=pd.get_dummies(df,columns=['workclass','education','marital_status','occupation','relationship','race','sex','native_country'])"
      ],
      "execution_count": 0,
      "outputs": []
    },
    {
      "cell_type": "code",
      "metadata": {
        "id": "5XWbefT5RBgg",
        "colab_type": "code",
        "colab": {}
      },
      "source": [
        "df.drop(columns=['education_num','salary'],inplace=True)"
      ],
      "execution_count": 0,
      "outputs": []
    },
    {
      "cell_type": "code",
      "metadata": {
        "id": "R-aTs3VOGXwo",
        "colab_type": "code",
        "colab": {}
      },
      "source": [
        "from sklearn.model_selection import train_test_split\n",
        "X_train,X_test,y_train,y_test=train_test_split(df,target,test_size=0.2,random_state=10)"
      ],
      "execution_count": 0,
      "outputs": []
    },
    {
      "cell_type": "code",
      "metadata": {
        "id": "LGdnV52cTpcs",
        "colab_type": "code",
        "colab": {}
      },
      "source": [
        ""
      ],
      "execution_count": 0,
      "outputs": []
    },
    {
      "cell_type": "markdown",
      "metadata": {
        "id": "IM8luAaITwXo",
        "colab_type": "text"
      },
      "source": [
        "***knn***"
      ]
    },
    {
      "cell_type": "code",
      "metadata": {
        "id": "x1nugAPIRekH",
        "colab_type": "code",
        "colab": {
          "base_uri": "https://localhost:8080/",
          "height": 122
        },
        "outputId": "86ee759d-05eb-43b1-f654-2d69d1b9c340"
      },
      "source": [
        "from sklearn.neighbors import KNeighborsClassifier\n",
        "model=KNeighborsClassifier()\n",
        "model.fit(X_train,y_train)"
      ],
      "execution_count": 100,
      "outputs": [
        {
          "output_type": "stream",
          "text": [
            "/usr/local/lib/python3.6/dist-packages/ipykernel_launcher.py:3: DataConversionWarning: A column-vector y was passed when a 1d array was expected. Please change the shape of y to (n_samples, ), for example using ravel().\n",
            "  This is separate from the ipykernel package so we can avoid doing imports until\n"
          ],
          "name": "stderr"
        },
        {
          "output_type": "execute_result",
          "data": {
            "text/plain": [
              "KNeighborsClassifier(algorithm='auto', leaf_size=30, metric='minkowski',\n",
              "                     metric_params=None, n_jobs=None, n_neighbors=5, p=2,\n",
              "                     weights='uniform')"
            ]
          },
          "metadata": {
            "tags": []
          },
          "execution_count": 100
        }
      ]
    },
    {
      "cell_type": "code",
      "metadata": {
        "id": "NPQCumxpKTj7",
        "colab_type": "code",
        "colab": {
          "base_uri": "https://localhost:8080/",
          "height": 119
        },
        "outputId": "10d1a992-3ab8-4c78-c3e0-67327001f759"
      },
      "source": [
        "y_test['prediction']=model.predict(X_test)"
      ],
      "execution_count": 101,
      "outputs": [
        {
          "output_type": "stream",
          "text": [
            "/usr/local/lib/python3.6/dist-packages/ipykernel_launcher.py:1: SettingWithCopyWarning: \n",
            "A value is trying to be set on a copy of a slice from a DataFrame.\n",
            "Try using .loc[row_indexer,col_indexer] = value instead\n",
            "\n",
            "See the caveats in the documentation: http://pandas.pydata.org/pandas-docs/stable/user_guide/indexing.html#returning-a-view-versus-a-copy\n",
            "  \"\"\"Entry point for launching an IPython kernel.\n"
          ],
          "name": "stderr"
        }
      ]
    },
    {
      "cell_type": "code",
      "metadata": {
        "id": "vPp8GOnqSN46",
        "colab_type": "code",
        "colab": {
          "base_uri": "https://localhost:8080/",
          "height": 34
        },
        "outputId": "81473872-0027-40c1-a176-bfbf09ffb33a"
      },
      "source": [
        "from sklearn.metrics import accuracy_score\n",
        "print(f\"\"\"knn accuracy: {accuracy_score(y_test.salary,y_test.prediction)}\"\"\")"
      ],
      "execution_count": 102,
      "outputs": [
        {
          "output_type": "stream",
          "text": [
            "knn accuracy: 0.7681087352892425\n"
          ],
          "name": "stdout"
        }
      ]
    },
    {
      "cell_type": "code",
      "metadata": {
        "id": "R-fUkpaKT4-J",
        "colab_type": "code",
        "colab": {}
      },
      "source": [
        ""
      ],
      "execution_count": 0,
      "outputs": []
    },
    {
      "cell_type": "markdown",
      "metadata": {
        "id": "uV4kLZveT5Pe",
        "colab_type": "text"
      },
      "source": [
        "*keras*"
      ]
    },
    {
      "cell_type": "code",
      "metadata": {
        "id": "wE69uJjgT9Lm",
        "colab_type": "code",
        "colab": {}
      },
      "source": [
        ""
      ],
      "execution_count": 0,
      "outputs": []
    },
    {
      "cell_type": "code",
      "metadata": {
        "id": "s7lrfZsoSUEr",
        "colab_type": "code",
        "colab": {}
      },
      "source": [
        "import tensorflow as tf"
      ],
      "execution_count": 0,
      "outputs": []
    },
    {
      "cell_type": "code",
      "metadata": {
        "id": "X-hFD5L7SUQJ",
        "colab_type": "code",
        "colab": {}
      },
      "source": [
        "import keras"
      ],
      "execution_count": 0,
      "outputs": []
    },
    {
      "cell_type": "code",
      "metadata": {
        "id": "lIsLUzd4TWf_",
        "colab_type": "code",
        "colab": {}
      },
      "source": [
        ""
      ],
      "execution_count": 0,
      "outputs": []
    },
    {
      "cell_type": "code",
      "metadata": {
        "id": "CuukWXQDSfqv",
        "colab_type": "code",
        "colab": {}
      },
      "source": [
        "from keras.models import Sequential\n",
        "from keras.layers import Dense\n",
        "from keras.losses import categorical_crossentropy\n",
        "from keras.metrics import categorical_accuracy\n",
        "from keras.optimizers import Adam"
      ],
      "execution_count": 0,
      "outputs": []
    },
    {
      "cell_type": "code",
      "metadata": {
        "id": "HQtcPAIqTRp8",
        "colab_type": "code",
        "colab": {}
      },
      "source": [
        "import numpy as np\n",
        "seed = 7\n",
        "np.random.seed(seed)"
      ],
      "execution_count": 0,
      "outputs": []
    },
    {
      "cell_type": "code",
      "metadata": {
        "id": "CFTOCT9uTXN5",
        "colab_type": "code",
        "colab": {
          "base_uri": "https://localhost:8080/",
          "height": 1000
        },
        "outputId": "ecc86696-dc4a-4dd8-916b-1e61c46182a2"
      },
      "source": [
        "keras_model = Sequential()\n",
        "keras_model.add(Dense(1, input_shape=(103,), activation='relu'))\n",
        "keras_model.add(Dense(2, activation='softmax'))\n",
        "keras_model.compile(Adam(lr=0.05), loss='categorical_crossentropy', \\\n",
        "              metrics=['categorical_accuracy', 'accuracy'])\n",
        "from keras.utils import to_categorical\n",
        "history = keras_model.fit(X_train, to_categorical(y_train), epochs=100)"
      ],
      "execution_count": 110,
      "outputs": [
        {
          "output_type": "stream",
          "text": [
            "WARNING:tensorflow:From /usr/local/lib/python3.6/dist-packages/keras/backend/tensorflow_backend.py:66: The name tf.get_default_graph is deprecated. Please use tf.compat.v1.get_default_graph instead.\n",
            "\n",
            "WARNING:tensorflow:From /usr/local/lib/python3.6/dist-packages/keras/backend/tensorflow_backend.py:541: The name tf.placeholder is deprecated. Please use tf.compat.v1.placeholder instead.\n",
            "\n",
            "WARNING:tensorflow:From /usr/local/lib/python3.6/dist-packages/keras/backend/tensorflow_backend.py:4432: The name tf.random_uniform is deprecated. Please use tf.random.uniform instead.\n",
            "\n",
            "WARNING:tensorflow:From /usr/local/lib/python3.6/dist-packages/keras/optimizers.py:793: The name tf.train.Optimizer is deprecated. Please use tf.compat.v1.train.Optimizer instead.\n",
            "\n",
            "WARNING:tensorflow:From /usr/local/lib/python3.6/dist-packages/keras/backend/tensorflow_backend.py:3576: The name tf.log is deprecated. Please use tf.math.log instead.\n",
            "\n",
            "WARNING:tensorflow:From /usr/local/lib/python3.6/dist-packages/tensorflow_core/python/ops/math_grad.py:1424: where (from tensorflow.python.ops.array_ops) is deprecated and will be removed in a future version.\n",
            "Instructions for updating:\n",
            "Use tf.where in 2.0, which has the same broadcast rule as np.where\n",
            "WARNING:tensorflow:From /usr/local/lib/python3.6/dist-packages/keras/backend/tensorflow_backend.py:1033: The name tf.assign_add is deprecated. Please use tf.compat.v1.assign_add instead.\n",
            "\n",
            "WARNING:tensorflow:From /usr/local/lib/python3.6/dist-packages/keras/backend/tensorflow_backend.py:1020: The name tf.assign is deprecated. Please use tf.compat.v1.assign instead.\n",
            "\n",
            "WARNING:tensorflow:From /usr/local/lib/python3.6/dist-packages/keras/backend/tensorflow_backend.py:3005: The name tf.Session is deprecated. Please use tf.compat.v1.Session instead.\n",
            "\n",
            "Epoch 1/100\n",
            "WARNING:tensorflow:From /usr/local/lib/python3.6/dist-packages/keras/backend/tensorflow_backend.py:190: The name tf.get_default_session is deprecated. Please use tf.compat.v1.get_default_session instead.\n",
            "\n",
            "WARNING:tensorflow:From /usr/local/lib/python3.6/dist-packages/keras/backend/tensorflow_backend.py:197: The name tf.ConfigProto is deprecated. Please use tf.compat.v1.ConfigProto instead.\n",
            "\n",
            "WARNING:tensorflow:From /usr/local/lib/python3.6/dist-packages/keras/backend/tensorflow_backend.py:207: The name tf.global_variables is deprecated. Please use tf.compat.v1.global_variables instead.\n",
            "\n",
            "WARNING:tensorflow:From /usr/local/lib/python3.6/dist-packages/keras/backend/tensorflow_backend.py:216: The name tf.is_variable_initialized is deprecated. Please use tf.compat.v1.is_variable_initialized instead.\n",
            "\n",
            "WARNING:tensorflow:From /usr/local/lib/python3.6/dist-packages/keras/backend/tensorflow_backend.py:223: The name tf.variables_initializer is deprecated. Please use tf.compat.v1.variables_initializer instead.\n",
            "\n",
            "24128/24128 [==============================] - 2s 70us/step - loss: 4.0082 - categorical_accuracy: 0.7513 - acc: 0.7513\n",
            "Epoch 2/100\n",
            "24128/24128 [==============================] - 1s 36us/step - loss: 4.0082 - categorical_accuracy: 0.7513 - acc: 0.7513\n",
            "Epoch 3/100\n",
            "24128/24128 [==============================] - 1s 37us/step - loss: 4.0081 - categorical_accuracy: 0.7513 - acc: 0.7513\n",
            "Epoch 4/100\n",
            "24128/24128 [==============================] - 1s 36us/step - loss: 4.0081 - categorical_accuracy: 0.7513 - acc: 0.7513\n",
            "Epoch 5/100\n",
            "24128/24128 [==============================] - 1s 36us/step - loss: 4.0081 - categorical_accuracy: 0.7513 - acc: 0.7513\n",
            "Epoch 6/100\n",
            "24128/24128 [==============================] - 1s 37us/step - loss: 4.0081 - categorical_accuracy: 0.7513 - acc: 0.7513\n",
            "Epoch 7/100\n",
            "24128/24128 [==============================] - 1s 37us/step - loss: 4.0081 - categorical_accuracy: 0.7513 - acc: 0.7513\n",
            "Epoch 8/100\n",
            "24128/24128 [==============================] - 1s 36us/step - loss: 4.0081 - categorical_accuracy: 0.7513 - acc: 0.7513\n",
            "Epoch 9/100\n",
            "24128/24128 [==============================] - 1s 37us/step - loss: 4.0081 - categorical_accuracy: 0.7513 - acc: 0.7513\n",
            "Epoch 10/100\n",
            "24128/24128 [==============================] - 1s 36us/step - loss: 4.0081 - categorical_accuracy: 0.7513 - acc: 0.7513\n",
            "Epoch 11/100\n",
            "24128/24128 [==============================] - 1s 36us/step - loss: 4.0081 - categorical_accuracy: 0.7513 - acc: 0.7513\n",
            "Epoch 12/100\n",
            "24128/24128 [==============================] - 1s 35us/step - loss: 4.0081 - categorical_accuracy: 0.7513 - acc: 0.7513\n",
            "Epoch 13/100\n",
            "24128/24128 [==============================] - 1s 35us/step - loss: 4.0081 - categorical_accuracy: 0.7513 - acc: 0.7513\n",
            "Epoch 14/100\n",
            "24128/24128 [==============================] - 1s 36us/step - loss: 4.0081 - categorical_accuracy: 0.7513 - acc: 0.7513\n",
            "Epoch 15/100\n",
            "24128/24128 [==============================] - 1s 37us/step - loss: 4.0081 - categorical_accuracy: 0.7513 - acc: 0.7513\n",
            "Epoch 16/100\n",
            "24128/24128 [==============================] - 1s 35us/step - loss: 4.0081 - categorical_accuracy: 0.7513 - acc: 0.7513\n",
            "Epoch 17/100\n",
            "24128/24128 [==============================] - 1s 35us/step - loss: 4.0081 - categorical_accuracy: 0.7513 - acc: 0.7513\n",
            "Epoch 18/100\n",
            "24128/24128 [==============================] - 1s 35us/step - loss: 4.0081 - categorical_accuracy: 0.7513 - acc: 0.7513\n",
            "Epoch 19/100\n",
            "24128/24128 [==============================] - 1s 35us/step - loss: 4.0081 - categorical_accuracy: 0.7513 - acc: 0.7513\n",
            "Epoch 20/100\n",
            "24128/24128 [==============================] - 1s 35us/step - loss: 4.0081 - categorical_accuracy: 0.7513 - acc: 0.7513\n",
            "Epoch 21/100\n",
            "24128/24128 [==============================] - 1s 35us/step - loss: 4.0081 - categorical_accuracy: 0.7513 - acc: 0.7513\n",
            "Epoch 22/100\n",
            "24128/24128 [==============================] - 1s 35us/step - loss: 4.0081 - categorical_accuracy: 0.7513 - acc: 0.7513\n",
            "Epoch 23/100\n",
            "24128/24128 [==============================] - 1s 36us/step - loss: 4.0081 - categorical_accuracy: 0.7513 - acc: 0.7513\n",
            "Epoch 24/100\n",
            "24128/24128 [==============================] - 1s 34us/step - loss: 4.0081 - categorical_accuracy: 0.7513 - acc: 0.7513\n",
            "Epoch 25/100\n",
            "24128/24128 [==============================] - 1s 35us/step - loss: 4.0081 - categorical_accuracy: 0.7513 - acc: 0.7513\n",
            "Epoch 26/100\n",
            "24128/24128 [==============================] - 1s 36us/step - loss: 4.0081 - categorical_accuracy: 0.7513 - acc: 0.7513\n",
            "Epoch 27/100\n",
            "24128/24128 [==============================] - 1s 36us/step - loss: 4.0081 - categorical_accuracy: 0.7513 - acc: 0.7513\n",
            "Epoch 28/100\n",
            "24128/24128 [==============================] - 1s 38us/step - loss: 4.0081 - categorical_accuracy: 0.7513 - acc: 0.7513\n",
            "Epoch 29/100\n",
            "24128/24128 [==============================] - 1s 38us/step - loss: 4.0081 - categorical_accuracy: 0.7513 - acc: 0.7513\n",
            "Epoch 30/100\n",
            "24128/24128 [==============================] - 1s 38us/step - loss: 4.0081 - categorical_accuracy: 0.7513 - acc: 0.7513\n",
            "Epoch 31/100\n",
            "24128/24128 [==============================] - 1s 37us/step - loss: 4.0081 - categorical_accuracy: 0.7513 - acc: 0.7513\n",
            "Epoch 32/100\n",
            "24128/24128 [==============================] - 1s 36us/step - loss: 4.0081 - categorical_accuracy: 0.7513 - acc: 0.7513\n",
            "Epoch 33/100\n",
            "24128/24128 [==============================] - 1s 37us/step - loss: 4.0081 - categorical_accuracy: 0.7513 - acc: 0.7513\n",
            "Epoch 34/100\n",
            "24128/24128 [==============================] - 1s 36us/step - loss: 4.0081 - categorical_accuracy: 0.7513 - acc: 0.7513\n",
            "Epoch 35/100\n",
            "24128/24128 [==============================] - 1s 37us/step - loss: 4.0081 - categorical_accuracy: 0.7513 - acc: 0.7513\n",
            "Epoch 36/100\n",
            "24128/24128 [==============================] - 1s 35us/step - loss: 4.0081 - categorical_accuracy: 0.7513 - acc: 0.7513\n",
            "Epoch 37/100\n",
            "24128/24128 [==============================] - 1s 36us/step - loss: 4.0081 - categorical_accuracy: 0.7513 - acc: 0.7513\n",
            "Epoch 38/100\n",
            "24128/24128 [==============================] - 1s 36us/step - loss: 4.0081 - categorical_accuracy: 0.7513 - acc: 0.7513\n",
            "Epoch 39/100\n",
            "24128/24128 [==============================] - 1s 35us/step - loss: 4.0081 - categorical_accuracy: 0.7513 - acc: 0.7513\n",
            "Epoch 40/100\n",
            "24128/24128 [==============================] - 1s 36us/step - loss: 4.0081 - categorical_accuracy: 0.7513 - acc: 0.7513\n",
            "Epoch 41/100\n",
            "24128/24128 [==============================] - 1s 37us/step - loss: 4.0081 - categorical_accuracy: 0.7513 - acc: 0.7513\n",
            "Epoch 42/100\n",
            "24128/24128 [==============================] - 1s 35us/step - loss: 4.0081 - categorical_accuracy: 0.7513 - acc: 0.7513\n",
            "Epoch 43/100\n",
            "24128/24128 [==============================] - 1s 36us/step - loss: 4.0081 - categorical_accuracy: 0.7513 - acc: 0.7513\n",
            "Epoch 44/100\n",
            "24128/24128 [==============================] - 1s 34us/step - loss: 4.0081 - categorical_accuracy: 0.7513 - acc: 0.7513\n",
            "Epoch 45/100\n",
            "24128/24128 [==============================] - 1s 36us/step - loss: 4.0081 - categorical_accuracy: 0.7513 - acc: 0.7513\n",
            "Epoch 46/100\n",
            "24128/24128 [==============================] - 1s 36us/step - loss: 4.0081 - categorical_accuracy: 0.7513 - acc: 0.7513\n",
            "Epoch 47/100\n",
            "24128/24128 [==============================] - 1s 36us/step - loss: 4.0081 - categorical_accuracy: 0.7513 - acc: 0.7513\n",
            "Epoch 48/100\n",
            "24128/24128 [==============================] - 1s 36us/step - loss: 4.0081 - categorical_accuracy: 0.7513 - acc: 0.7513\n",
            "Epoch 49/100\n",
            "24128/24128 [==============================] - 1s 36us/step - loss: 4.0081 - categorical_accuracy: 0.7513 - acc: 0.7513\n",
            "Epoch 50/100\n",
            "24128/24128 [==============================] - 1s 35us/step - loss: 4.0081 - categorical_accuracy: 0.7513 - acc: 0.7513\n",
            "Epoch 51/100\n",
            "24128/24128 [==============================] - 1s 36us/step - loss: 4.0081 - categorical_accuracy: 0.7513 - acc: 0.7513\n",
            "Epoch 52/100\n",
            "24128/24128 [==============================] - 1s 35us/step - loss: 4.0081 - categorical_accuracy: 0.7513 - acc: 0.7513\n",
            "Epoch 53/100\n",
            "24128/24128 [==============================] - 1s 35us/step - loss: 4.0081 - categorical_accuracy: 0.7513 - acc: 0.7513\n",
            "Epoch 54/100\n",
            "24128/24128 [==============================] - 1s 36us/step - loss: 4.0081 - categorical_accuracy: 0.7513 - acc: 0.7513\n",
            "Epoch 55/100\n",
            "24128/24128 [==============================] - 1s 36us/step - loss: 4.0081 - categorical_accuracy: 0.7513 - acc: 0.7513\n",
            "Epoch 56/100\n",
            "24128/24128 [==============================] - 1s 35us/step - loss: 4.0081 - categorical_accuracy: 0.7513 - acc: 0.7513\n",
            "Epoch 57/100\n",
            "24128/24128 [==============================] - 1s 35us/step - loss: 4.0081 - categorical_accuracy: 0.7513 - acc: 0.7513\n",
            "Epoch 58/100\n",
            "24128/24128 [==============================] - 1s 35us/step - loss: 4.0081 - categorical_accuracy: 0.7513 - acc: 0.7513\n",
            "Epoch 59/100\n",
            "24128/24128 [==============================] - 1s 37us/step - loss: 4.0081 - categorical_accuracy: 0.7513 - acc: 0.7513\n",
            "Epoch 60/100\n",
            "24128/24128 [==============================] - 1s 35us/step - loss: 4.0081 - categorical_accuracy: 0.7513 - acc: 0.7513\n",
            "Epoch 61/100\n",
            "24128/24128 [==============================] - 1s 36us/step - loss: 4.0081 - categorical_accuracy: 0.7513 - acc: 0.7513\n",
            "Epoch 62/100\n",
            "24128/24128 [==============================] - 1s 35us/step - loss: 4.0081 - categorical_accuracy: 0.7513 - acc: 0.7513\n",
            "Epoch 63/100\n",
            "24128/24128 [==============================] - 1s 36us/step - loss: 4.0081 - categorical_accuracy: 0.7513 - acc: 0.7513\n",
            "Epoch 64/100\n",
            "24128/24128 [==============================] - 1s 36us/step - loss: 4.0081 - categorical_accuracy: 0.7513 - acc: 0.7513\n",
            "Epoch 65/100\n",
            "24128/24128 [==============================] - 1s 35us/step - loss: 4.0081 - categorical_accuracy: 0.7513 - acc: 0.7513\n",
            "Epoch 66/100\n",
            "24128/24128 [==============================] - 1s 37us/step - loss: 4.0081 - categorical_accuracy: 0.7513 - acc: 0.7513\n",
            "Epoch 67/100\n",
            "24128/24128 [==============================] - 1s 35us/step - loss: 4.0081 - categorical_accuracy: 0.7513 - acc: 0.7513\n",
            "Epoch 68/100\n",
            "24128/24128 [==============================] - 1s 35us/step - loss: 4.0081 - categorical_accuracy: 0.7513 - acc: 0.7513\n",
            "Epoch 69/100\n",
            "24128/24128 [==============================] - 1s 36us/step - loss: 4.0081 - categorical_accuracy: 0.7513 - acc: 0.7513\n",
            "Epoch 70/100\n",
            "24128/24128 [==============================] - 1s 37us/step - loss: 4.0081 - categorical_accuracy: 0.7513 - acc: 0.7513\n",
            "Epoch 71/100\n",
            "24128/24128 [==============================] - 1s 36us/step - loss: 4.0081 - categorical_accuracy: 0.7513 - acc: 0.7513\n",
            "Epoch 72/100\n",
            "24128/24128 [==============================] - 1s 35us/step - loss: 4.0081 - categorical_accuracy: 0.7513 - acc: 0.7513\n",
            "Epoch 73/100\n",
            "24128/24128 [==============================] - 1s 35us/step - loss: 4.0081 - categorical_accuracy: 0.7513 - acc: 0.7513\n",
            "Epoch 74/100\n",
            "24128/24128 [==============================] - 1s 35us/step - loss: 4.0081 - categorical_accuracy: 0.7513 - acc: 0.7513\n",
            "Epoch 75/100\n",
            "24128/24128 [==============================] - 1s 36us/step - loss: 4.0081 - categorical_accuracy: 0.7513 - acc: 0.7513\n",
            "Epoch 76/100\n",
            "24128/24128 [==============================] - 1s 36us/step - loss: 4.0081 - categorical_accuracy: 0.7513 - acc: 0.7513\n",
            "Epoch 77/100\n",
            "24128/24128 [==============================] - 1s 36us/step - loss: 4.0081 - categorical_accuracy: 0.7513 - acc: 0.7513\n",
            "Epoch 78/100\n",
            "24128/24128 [==============================] - 1s 36us/step - loss: 4.0081 - categorical_accuracy: 0.7513 - acc: 0.7513\n",
            "Epoch 79/100\n",
            "24128/24128 [==============================] - 1s 37us/step - loss: 4.0081 - categorical_accuracy: 0.7513 - acc: 0.7513\n",
            "Epoch 80/100\n",
            "24128/24128 [==============================] - 1s 35us/step - loss: 4.0081 - categorical_accuracy: 0.7513 - acc: 0.7513\n",
            "Epoch 81/100\n",
            "24128/24128 [==============================] - 1s 36us/step - loss: 4.0081 - categorical_accuracy: 0.7513 - acc: 0.7513\n",
            "Epoch 82/100\n",
            "24128/24128 [==============================] - 1s 36us/step - loss: 4.0081 - categorical_accuracy: 0.7513 - acc: 0.7513\n",
            "Epoch 83/100\n",
            "24128/24128 [==============================] - 1s 36us/step - loss: 4.0081 - categorical_accuracy: 0.7513 - acc: 0.7513\n",
            "Epoch 84/100\n",
            "24128/24128 [==============================] - 1s 35us/step - loss: 4.0081 - categorical_accuracy: 0.7513 - acc: 0.7513\n",
            "Epoch 85/100\n",
            "24128/24128 [==============================] - 1s 35us/step - loss: 4.0081 - categorical_accuracy: 0.7513 - acc: 0.7513\n",
            "Epoch 86/100\n",
            "24128/24128 [==============================] - 1s 35us/step - loss: 4.0081 - categorical_accuracy: 0.7513 - acc: 0.7513\n",
            "Epoch 87/100\n",
            "24128/24128 [==============================] - 1s 36us/step - loss: 4.0081 - categorical_accuracy: 0.7513 - acc: 0.7513\n",
            "Epoch 88/100\n",
            "24128/24128 [==============================] - 1s 36us/step - loss: 4.0081 - categorical_accuracy: 0.7513 - acc: 0.7513\n",
            "Epoch 89/100\n",
            "24128/24128 [==============================] - 1s 36us/step - loss: 4.0081 - categorical_accuracy: 0.7513 - acc: 0.7513\n",
            "Epoch 90/100\n",
            "24128/24128 [==============================] - 1s 36us/step - loss: 4.0081 - categorical_accuracy: 0.7513 - acc: 0.7513\n",
            "Epoch 91/100\n",
            "24128/24128 [==============================] - 1s 36us/step - loss: 4.0081 - categorical_accuracy: 0.7513 - acc: 0.7513\n",
            "Epoch 92/100\n",
            "24128/24128 [==============================] - 1s 36us/step - loss: 4.0081 - categorical_accuracy: 0.7513 - acc: 0.7513\n",
            "Epoch 93/100\n",
            "24128/24128 [==============================] - 1s 35us/step - loss: 4.0081 - categorical_accuracy: 0.7513 - acc: 0.7513\n",
            "Epoch 94/100\n",
            "24128/24128 [==============================] - 1s 36us/step - loss: 4.0081 - categorical_accuracy: 0.7513 - acc: 0.7513\n",
            "Epoch 95/100\n",
            "24128/24128 [==============================] - 1s 36us/step - loss: 4.0081 - categorical_accuracy: 0.7513 - acc: 0.7513\n",
            "Epoch 96/100\n",
            "24128/24128 [==============================] - 1s 35us/step - loss: 4.0081 - categorical_accuracy: 0.7513 - acc: 0.7513\n",
            "Epoch 97/100\n",
            "24128/24128 [==============================] - 1s 35us/step - loss: 4.0081 - categorical_accuracy: 0.7513 - acc: 0.7513\n",
            "Epoch 98/100\n",
            "24128/24128 [==============================] - 1s 35us/step - loss: 4.0081 - categorical_accuracy: 0.7513 - acc: 0.7513\n",
            "Epoch 99/100\n",
            "24128/24128 [==============================] - 1s 36us/step - loss: 4.0081 - categorical_accuracy: 0.7513 - acc: 0.7513\n",
            "Epoch 100/100\n",
            "24128/24128 [==============================] - 1s 36us/step - loss: 4.0081 - categorical_accuracy: 0.7513 - acc: 0.7513\n"
          ],
          "name": "stdout"
        }
      ]
    },
    {
      "cell_type": "code",
      "metadata": {
        "id": "M0Qf4ClEUKZy",
        "colab_type": "code",
        "colab": {
          "base_uri": "https://localhost:8080/",
          "height": 119
        },
        "outputId": "55dc554c-1682-4a5d-e4ce-5fd3bd4e99bb"
      },
      "source": [
        "y_test['keras_prediction']=np.argmax(keras_model.predict(X_test),axis=1)"
      ],
      "execution_count": 111,
      "outputs": [
        {
          "output_type": "stream",
          "text": [
            "/usr/local/lib/python3.6/dist-packages/ipykernel_launcher.py:1: SettingWithCopyWarning: \n",
            "A value is trying to be set on a copy of a slice from a DataFrame.\n",
            "Try using .loc[row_indexer,col_indexer] = value instead\n",
            "\n",
            "See the caveats in the documentation: http://pandas.pydata.org/pandas-docs/stable/user_guide/indexing.html#returning-a-view-versus-a-copy\n",
            "  \"\"\"Entry point for launching an IPython kernel.\n"
          ],
          "name": "stderr"
        }
      ]
    },
    {
      "cell_type": "code",
      "metadata": {
        "id": "Zkq1_z3BURhy",
        "colab_type": "code",
        "colab": {
          "base_uri": "https://localhost:8080/",
          "height": 34
        },
        "outputId": "2816d043-a695-4331-895f-ffd25f1a6d10"
      },
      "source": [
        "print(f'Keras accuracy: {accuracy_score(y_test.salary, y_test.keras_prediction)}')"
      ],
      "execution_count": 112,
      "outputs": [
        {
          "output_type": "stream",
          "text": [
            "Keras accuracy: 0.7526935189789491\n"
          ],
          "name": "stdout"
        }
      ]
    }
  ]
}